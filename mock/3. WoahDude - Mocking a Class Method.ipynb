{
 "metadata": {
  "name": ""
 },
 "nbformat": 3,
 "nbformat_minor": 0,
 "worksheets": [
  {
   "cells": [
    {
     "cell_type": "heading",
     "level": 1,
     "metadata": {},
     "source": [
      "This is what you start with:"
     ]
    },
    {
     "cell_type": "code",
     "collapsed": false,
     "input": [
      "%%script python\n",
      "import unittest\n",
      "import time\n",
      "\n",
      "    \n",
      "class Seconds(object):\n",
      "    \n",
      "    def __init__(self):\n",
      "        self.seconds = 1\n",
      "    \n",
      "    def update(self, x):\n",
      "        if x: \n",
      "            time.sleep(2)\n",
      "            self.seconds = self.seconds + 1 \n",
      "         \n",
      "        else:\n",
      "            time.sleep(1)\n",
      "            self.seconds\n",
      "            \n",
      "        return self.seconds               \n",
      "\n",
      "class TestReturn(unittest.TestCase):\n",
      "        \n",
      "    def test_class_zero_true(self):\n",
      "        result = Seconds()\n",
      "        result.seconds = 0\n",
      "        result = result.update(True)\n",
      "        self.assertEquals(result,1)\n",
      "        \n",
      "    def test_class_one_true(self):\n",
      "        result = Seconds()\n",
      "        result.seconds = 1\n",
      "        result = result.update(True)\n",
      "        self.assertEquals(result,2)\n",
      "        \n",
      "    def test_class_five_false(self):  \n",
      "        result = Seconds()\n",
      "        result.seconds = 5\n",
      "        result = result.update(False)\n",
      "        self.assertEquals(result,5)\n",
      "            \n",
      "if __name__ == '__main__':\n",
      "    unittest.main()"
     ],
     "language": "python",
     "metadata": {},
     "outputs": [
      {
       "output_type": "stream",
       "stream": "stderr",
       "text": [
        "...\n",
        "----------------------------------------------------------------------\n",
        "Ran 3 tests in 5.003s\n",
        "\n",
        "OK\n"
       ]
      }
     ],
     "prompt_number": 4
    },
    {
     "cell_type": "heading",
     "level": 1,
     "metadata": {},
     "source": [
      "The boss say's \"We need a new function\""
     ]
    },
    {
     "cell_type": "code",
     "collapsed": false,
     "input": [
      "%%script python\n",
      "import unittest\n",
      "import time\n",
      "import mock\n",
      "\n",
      "    \n",
      "class Seconds(object):\n",
      "    \n",
      "    def __init__(self):\n",
      "        self.seconds = 1\n",
      "    \n",
      "    def update(self, x):\n",
      "        if x: \n",
      "            time.sleep(2)\n",
      "            self.seconds = self.seconds + 1 \n",
      "         \n",
      "        else:\n",
      "            time.sleep(1)\n",
      "            self.seconds\n",
      "            \n",
      "        return self.seconds\n",
      "    \n",
      "\n",
      "def production_function(seconds):\n",
      "    \n",
      "    new_time = Seconds()\n",
      "    returned_time = 2*new_time.update(seconds)\n",
      "    \n",
      "    if returned_time > 1:\n",
      "        return True\n",
      "    else:\n",
      "        return False\n",
      "    \n",
      "    \n",
      "class TestReturn(unittest.TestCase):\n",
      "    \n",
      "        @mock.patch('__main__.Seconds')\n",
      "        def test_function_six_false(self, Seconds):\n",
      "            Seconds().update.return_value = 2\n",
      "            test = production_function(1)    \n",
      "            self.assertEquals(test,True)\n",
      "            Seconds().update.assert_called_with(1)\n",
      "            \n",
      "        @mock.patch('__main__.Seconds')\n",
      "        def test_function_six_true(self, Seconds):\n",
      "            Seconds().update.return_value = 0\n",
      "            test = production_function(0)    \n",
      "            self.assertEquals(test,False)\n",
      "            Seconds().update.assert_called_with(0)\n",
      "            \n",
      "            \n",
      "\n",
      "if __name__ == '__main__':\n",
      "    unittest.main()"
     ],
     "language": "python",
     "metadata": {},
     "outputs": []
    },
    {
     "cell_type": "code",
     "collapsed": false,
     "input": [],
     "language": "python",
     "metadata": {},
     "outputs": []
    }
   ],
   "metadata": {}
  }
 ]
}