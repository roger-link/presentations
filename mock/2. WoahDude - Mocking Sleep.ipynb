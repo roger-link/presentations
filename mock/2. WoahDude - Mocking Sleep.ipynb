{
 "metadata": {
  "name": ""
 },
 "nbformat": 3,
 "nbformat_minor": 0,
 "worksheets": [
  {
   "cells": [
    {
     "cell_type": "heading",
     "level": 1,
     "metadata": {},
     "source": [
      "This is what I'm starting with."
     ]
    },
    {
     "cell_type": "code",
     "collapsed": false,
     "input": [
      "%%script python\n",
      "import unittest\n",
      "from mock import MagicMock\n",
      "import time\n",
      "\n",
      "        \n",
      "def Production_Function(x):\n",
      "    blah = 1\n",
      "    \n",
      "    if x > 1:\n",
      "        blah = blah + 1\n",
      "        time.sleep(2)\n",
      "        return blah\n",
      "    else:\n",
      "        time.sleep(5)\n",
      "        return blah\n",
      "\n",
      " \n",
      "class TestProduction(unittest.TestCase):\n",
      "        \n",
      "    def test_function(self):\n",
      "        result = Production_Function(1)\n",
      "        self.assertEquals(result,1)\n",
      "        \n",
      "        result = Production_Function(2)\n",
      "        self.assertEquals(result,2)\n",
      "        \n",
      "\n",
      "        \n",
      "if __name__ == '__main__':\n",
      "    unittest.main()"
     ],
     "language": "python",
     "metadata": {},
     "outputs": [
      {
       "output_type": "stream",
       "stream": "stderr",
       "text": [
        ".\n",
        "----------------------------------------------------------------------\n",
        "Ran 1 test in 7.002s\n",
        "\n",
        "OK\n"
       ]
      }
     ],
     "prompt_number": 4
    },
    {
     "cell_type": "heading",
     "level": 1,
     "metadata": {},
     "source": [
      "We want to change stuff!!!\n",
      "\n",
      "Requirement: Add 200 to blah instead of 1"
     ]
    },
    {
     "cell_type": "code",
     "collapsed": true,
     "input": [
      "%%script python\n",
      "import unittest\n",
      "from mock import MagicMock, patch\n",
      "import time\n",
      "        \n",
      "def Production_Function(x):\n",
      "    blah = 1\n",
      "    \n",
      "    if x > 1:\n",
      "        blah = blah + 200  #updated\n",
      "        time.sleep(2)\n",
      "        return blah\n",
      "    else:\n",
      "        time.sleep(5)\n",
      "        return blah\n",
      "\n",
      " \n",
      "class TestProduction(unittest.TestCase):\n",
      "    \n",
      "    @patch('time.sleep')             \n",
      "    def test_function(self, sleep):\n",
      "        result = Production_Function(1)\n",
      "        self.assertEquals(result,1)\n",
      "        \n",
      "        result = Production_Function(2)\n",
      "        self.assertEquals(result,201)  #updated\n",
      "        \n",
      "        \n",
      "if __name__ == '__main__':\n",
      "    unittest.main()"
     ],
     "language": "python",
     "metadata": {},
     "outputs": [
      {
       "output_type": "stream",
       "stream": "stderr",
       "text": [
        ".\n",
        "----------------------------------------------------------------------\n",
        "Ran 1 test in 0.001s\n",
        "\n",
        "OK\n"
       ]
      }
     ],
     "prompt_number": 5
    },
    {
     "cell_type": "code",
     "collapsed": false,
     "input": [],
     "language": "python",
     "metadata": {},
     "outputs": []
    }
   ],
   "metadata": {}
  }
 ]
}