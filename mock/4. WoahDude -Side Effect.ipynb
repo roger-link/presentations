{
 "metadata": {
  "name": ""
 },
 "nbformat": 3,
 "nbformat_minor": 0,
 "worksheets": [
  {
   "cells": [
    {
     "cell_type": "code",
     "collapsed": false,
     "input": [
      "def function(list):\n",
      "    sum = 0\n",
      "    for item in list:\n",
      "        sum = sum + item\n",
      "\n",
      "    return sum\n",
      "    \n",
      "sum = function([5,5,5,5])\n",
      "print sum\n"
     ],
     "language": "python",
     "metadata": {},
     "outputs": [
      {
       "output_type": "stream",
       "stream": "stdout",
       "text": [
        "20\n"
       ]
      }
     ],
     "prompt_number": 5
    },
    {
     "cell_type": "code",
     "collapsed": false,
     "input": [
      "%%script python\n",
      "import unittest\n",
      "import mock\n",
      "\n",
      "def function(new_list):\n",
      "    sum = 0\n",
      "    for item in new_list:\n",
      "        sum = sum + item\n",
      "        \n",
      "    if StopIteration:\n",
      "        sum = 'An error occurred!'\n",
      "\n",
      "    return sum\n",
      "\n",
      "\n",
      "class TestReturn(unittest.TestCase):    \n",
      "    def test_class_zero_true(self):\n",
      "        mocked_list = mock.MagicMock(side_effect=StopIteration)\n",
      "        sum = function(mocked_list)\n",
      "        self.assertEquals(sum, 'An error occurred!')\n",
      "        \n",
      "if __name__ == '__main__':\n",
      "    unittest.main()"
     ],
     "language": "python",
     "metadata": {},
     "outputs": [
      {
       "output_type": "stream",
       "stream": "stderr",
       "text": [
        ".\n",
        "----------------------------------------------------------------------\n",
        "Ran 1 test in 0.000s\n",
        "\n",
        "OK\n"
       ]
      }
     ],
     "prompt_number": 6
    },
    {
     "cell_type": "code",
     "collapsed": false,
     "input": [],
     "language": "python",
     "metadata": {},
     "outputs": []
    }
   ],
   "metadata": {}
  }
 ]
}